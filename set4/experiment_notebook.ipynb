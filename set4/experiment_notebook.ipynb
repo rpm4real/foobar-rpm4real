{
 "cells": [
  {
   "cell_type": "code",
   "execution_count": 40,
   "metadata": {
    "collapsed": true
   },
   "outputs": [],
   "source": [
    "import math\n",
    "from itertools import combinations\n",
    "from collections import deque"
   ]
  },
  {
   "cell_type": "code",
   "execution_count": 10,
   "metadata": {
    "collapsed": true
   },
   "outputs": [],
   "source": [
    "def comb(n,r): \n",
    "    return (math.factorial(n))/(math.factorial(n-r)*math.factorial(r))"
   ]
  },
  {
   "cell_type": "code",
   "execution_count": 28,
   "metadata": {},
   "outputs": [
    {
     "data": {
      "text/plain": [
       "15.0"
      ]
     },
     "execution_count": 28,
     "metadata": {},
     "output_type": "execute_result"
    }
   ],
   "source": [
    "comb(6,4)"
   ]
  },
  {
   "cell_type": "markdown",
   "metadata": {},
   "source": [
    "3 sets \n",
    "- \n",
    "\n",
    "\n",
    "4 sets \n",
    "r = 2 \n",
    "- [0,1,2], [0,1,3], [0,2,3], [1,2,3] \n",
    "number of 0s : 3 \n",
    "number of 1s : 3 \n",
    "number of 2s : 3 \n",
    "number of 3s : 3 \n",
    "\n",
    "r = 3 \n",
    "- [0,1,2] , [2,4,5],  [1,3,5],  [0,3,4]\n",
    "number of 0s : 2 \n",
    "number of 1s : 2 \n",
    "number of 2s : 2 \n",
    "number of 3s : 2 \n",
    "number of 4s : 2 \n",
    "number of 5s : 2  \n",
    "\n",
    "r = 4 \n",
    "- [0], [1], [2], [3] \n",
    "number of 0s : 1 \n",
    "number of 1s : 1 \n",
    "etc. \n",
    "\n",
    "\n",
    "5 sets \n",
    "\n",
    "r = 1 - trivial \n",
    "\n",
    "r = 1 \n",
    "number of 0s : 4 \n",
    "number of 1s : 4 \n",
    "etc. \n",
    "\n",
    "r = 3 \n",
    "number of 0s : 3 \n",
    "number of 1s : 3 \n"
   ]
  },
  {
   "cell_type": "code",
   "execution_count": 3,
   "metadata": {},
   "outputs": [
    {
     "name": "stdout",
     "output_type": "stream",
     "text": [
      "1 :  1.0\n",
      "2 :  5.0\n",
      "3 :  10.0\n",
      "4 :  10.0\n",
      "5 :  5.0\n"
     ]
    }
   ],
   "source": [
    "for r in range(1,6):\n",
    "    print(r,': ',comb(5,r-1))"
   ]
  },
  {
   "cell_type": "code",
   "execution_count": null,
   "metadata": {
    "collapsed": true
   },
   "outputs": [],
   "source": [
    "for r in range(1,6):\n",
    "    print(r,': ',comb(5,r-1))"
   ]
  },
  {
   "cell_type": "code",
   "execution_count": 86,
   "metadata": {},
   "outputs": [],
   "source": [
    "def set_list(n,r): \n",
    "    n_unique = int(comb(n,r-1))\n",
    "    set_cardinality = int(comb(n-1,r-1))\n",
    "    n_unique_occur = n - r + 1\n",
    "    \n",
    "    element_pool = deque(list(range(0,n_unique))*n_unique_occur)\n",
    "    \n",
    "    final_set_list = []\n",
    "    bad_iter = 1 \n",
    "    while len(final_set_list) < n: \n",
    "        mySet = set()\n",
    "        for k in range(0,set_cardinality):\n",
    "            while element_pool[0] in mySet: \n",
    "                element_pool.rotate(1)\n",
    "            mySet.add(element_pool.popleft())\n",
    "        if mySet not in final_set_list:\n",
    "            final_set_list.append(mySet)\n",
    "        else: \n",
    "            element_pool = element_pool + deque(mySet)\n",
    "            print(\"Set repeated. Retry {0}...\".format(bad_iter))\n",
    "            bad_iter += 1 \n",
    "        if bad_iter == 10:\n",
    "            print(\"Shuffling whole list and restarting\")\n",
    "            element_pool = deque(list(range(0,n_unique))*n_unique_occur)\n",
    "            rnd.shuffle(element_pool)\n",
    "            final_set_list = []\n",
    "            bad_iter = 1           \n",
    "        \n",
    "    return final_set_list\n",
    "\n"
   ]
  },
  {
   "cell_type": "code",
   "execution_count": 94,
   "metadata": {},
   "outputs": [
    {
     "name": "stdout",
     "output_type": "stream",
     "text": [
      "Set repeated. Retry 1...\n",
      "Set repeated. Retry 2...\n",
      "Set repeated. Retry 3...\n",
      "Set repeated. Retry 4...\n",
      "Set repeated. Retry 5...\n",
      "Set repeated. Retry 6...\n",
      "Set repeated. Retry 7...\n",
      "Set repeated. Retry 8...\n",
      "Set repeated. Retry 9...\n",
      "Shuffling whole list and restarting\n"
     ]
    },
    {
     "data": {
      "text/plain": [
       "[{0, 1, 2, 3, 10, 13, 14, 15, 17, 19},\n",
       " {1, 3, 4, 8, 10, 11, 13, 14, 17, 18},\n",
       " {2, 4, 6, 9, 10, 12, 15, 16, 17, 18},\n",
       " {2, 3, 4, 5, 6, 7, 9, 11, 12, 13},\n",
       " {0, 5, 6, 7, 8, 9, 12, 14, 16, 19},\n",
       " {0, 1, 5, 7, 8, 11, 15, 16, 18, 19}]"
      ]
     },
     "execution_count": 94,
     "metadata": {},
     "output_type": "execute_result"
    }
   ],
   "source": [
    "set_list(6,4)"
   ]
  },
  {
   "cell_type": "code",
   "execution_count": 39,
   "metadata": {},
   "outputs": [
    {
     "data": {
      "text/plain": [
       "{4}"
      ]
     },
     "execution_count": 39,
     "metadata": {},
     "output_type": "execute_result"
    }
   ],
   "source": [
    "testset = set()\n",
    "testset.add(4)\n",
    "testset"
   ]
  },
  {
   "cell_type": "code",
   "execution_count": 65,
   "metadata": {},
   "outputs": [],
   "source": [
    "myque = deque([1,2,3])"
   ]
  },
  {
   "cell_type": "code",
   "execution_count": 67,
   "metadata": {},
   "outputs": [
    {
     "data": {
      "text/plain": [
       "deque([1, 2, 3, 4, 5, 6])"
      ]
     },
     "execution_count": 67,
     "metadata": {},
     "output_type": "execute_result"
    }
   ],
   "source": [
    "myque + deque(set([4,5,6]))"
   ]
  },
  {
   "cell_type": "code",
   "execution_count": 72,
   "metadata": {},
   "outputs": [],
   "source": [
    "mylist = [0,1,2]"
   ]
  },
  {
   "cell_type": "code",
   "execution_count": 73,
   "metadata": {
    "collapsed": true
   },
   "outputs": [],
   "source": [
    "import random as rnd "
   ]
  },
  {
   "cell_type": "code",
   "execution_count": null,
   "metadata": {},
   "outputs": [],
   "source": []
  },
  {
   "cell_type": "code",
   "execution_count": null,
   "metadata": {},
   "outputs": [],
   "source": []
  },
  {
   "cell_type": "code",
   "execution_count": 84,
   "metadata": {},
   "outputs": [
    {
     "data": {
      "text/plain": [
       "[4, 2, 1, 3, 5]"
      ]
     },
     "execution_count": 84,
     "metadata": {},
     "output_type": "execute_result"
    }
   ],
   "source": [
    "lst = [1,2,3,4,5]\n",
    "rnd.shuffle(lst)\n",
    "lst"
   ]
  },
  {
   "cell_type": "code",
   "execution_count": 83,
   "metadata": {},
   "outputs": [
    {
     "ename": "NameError",
     "evalue": "name 'lst' is not defined",
     "output_type": "error",
     "traceback": [
      "\u001b[0;31m---------------------------------------------------------------------------\u001b[0m",
      "\u001b[0;31mNameError\u001b[0m                                 Traceback (most recent call last)",
      "\u001b[0;32m<ipython-input-83-24034128ed43>\u001b[0m in \u001b[0;36m<module>\u001b[0;34m()\u001b[0m\n\u001b[0;32m----> 1\u001b[0;31m \u001b[0mlst\u001b[0m\u001b[0;34m\u001b[0m\u001b[0m\n\u001b[0m",
      "\u001b[0;31mNameError\u001b[0m: name 'lst' is not defined"
     ]
    }
   ],
   "source": []
  },
  {
   "cell_type": "code",
   "execution_count": null,
   "metadata": {
    "collapsed": true
   },
   "outputs": [],
   "source": []
  }
 ],
 "metadata": {
  "kernelspec": {
   "display_name": "Python 3",
   "language": "python",
   "name": "python3"
  },
  "language_info": {
   "codemirror_mode": {
    "name": "ipython",
    "version": 3
   },
   "file_extension": ".py",
   "mimetype": "text/x-python",
   "name": "python",
   "nbconvert_exporter": "python",
   "pygments_lexer": "ipython3",
   "version": "3.6.1"
  }
 },
 "nbformat": 4,
 "nbformat_minor": 2
}
